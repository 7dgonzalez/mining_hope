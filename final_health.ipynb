{
  "nbformat": 4,
  "nbformat_minor": 0,
  "metadata": {
    "colab": {
      "provenance": [],
      "toc_visible": true,
      "mount_file_id": "1YYhuuU_Tle0nUv__F5AFxvnizQcbfJdC",
      "authorship_tag": "ABX9TyNAiILRtaqEhCxhOu8axzqP",
      "include_colab_link": true
    },
    "kernelspec": {
      "name": "python3",
      "display_name": "Python 3"
    },
    "language_info": {
      "name": "python"
    }
  },
  "cells": [
    {
      "cell_type": "markdown",
      "metadata": {
        "id": "view-in-github",
        "colab_type": "text"
      },
      "source": [
        "<a href=\"https://colab.research.google.com/github/7dgonzalez/mining_hope/blob/main/final_health.ipynb\" target=\"_parent\"><img src=\"https://colab.research.google.com/assets/colab-badge.svg\" alt=\"Open In Colab\"/></a>"
      ]
    },
    {
      "cell_type": "code",
      "execution_count": null,
      "metadata": {
        "id": "kUfcS5jeicel"
      },
      "outputs": [],
      "source": [
        "from sklearn.metrics import mean_squared_error\n",
        "from sklearn.feature_selection import SelectFromModel\n",
        "from sklearn.metrics import accuracy_score\n",
        "from sklearn import tree\n",
        "\n",
        "import pandas as pd\n",
        "import altair as alt\n",
        "import seaborn as sns\n",
        "import numpy as np\n",
        "import matplotlib.pyplot as plt"
      ]
    },
    {
      "cell_type": "markdown",
      "source": [
        "Reading and modifying the first csv file"
      ],
      "metadata": {
        "id": "qvfmo5HNlqdl"
      }
    },
    {
      "cell_type": "code",
      "source": [
        "df2 = pd.read_csv(\"Expenditure on health - World Bank Group.csv\", skiprows=4)"
      ],
      "metadata": {
        "id": "1OfeRIm7_-gf"
      },
      "execution_count": null,
      "outputs": []
    },
    {
      "cell_type": "code",
      "source": [
        "drop_columns = ['Indicator Name', 'Indicator Code', 'Country Code' ]\n",
        "df2 = df2.drop(columns=drop_columns)\n",
        "display(df2.head())"
      ],
      "metadata": {
        "id": "HvY55CApAK4n"
      },
      "execution_count": null,
      "outputs": []
    },
    {
      "cell_type": "code",
      "source": [
        "df2_melted = df2.melt(\n",
        "    id_vars=[\"Country Name\"],\n",
        "    var_name=\"Year\",\n",
        "    value_name=\"health_expenditure\"\n",
        ")"
      ],
      "metadata": {
        "id": "1wcEiAjZAUaH"
      },
      "execution_count": null,
      "outputs": []
    },
    {
      "cell_type": "code",
      "source": [
        "df2_melted[\"Year\"] = pd.to_numeric(df2_melted[\"Year\"], errors='coerce')"
      ],
      "metadata": {
        "id": "48QKwDDuAWUA"
      },
      "execution_count": null,
      "outputs": []
    },
    {
      "cell_type": "code",
      "source": [
        "categorical = df2_melted.select_dtypes(\"object\")\n",
        "categorical.info()"
      ],
      "metadata": {
        "id": "nb2pDdlTCDPm"
      },
      "execution_count": null,
      "outputs": []
    },
    {
      "cell_type": "code",
      "source": [
        "df2_melted = df2_melted.dropna()"
      ],
      "metadata": {
        "id": "IYyYSKm7AXfA"
      },
      "execution_count": null,
      "outputs": []
    },
    {
      "cell_type": "code",
      "source": [
        "# fixing the naming convention to match the other csv file\n",
        "df2_melted['Country Name'] = df2_melted['Country Name'].replace({\n",
        "    'Africa Western and Central': 'Central African Republic',\n",
        "    'Viet Nam': 'Vietnam',\n",
        "\n",
        "})"
      ],
      "metadata": {
        "id": "HGqkhRzoWicI"
      },
      "execution_count": null,
      "outputs": []
    },
    {
      "cell_type": "code",
      "source": [
        "# cleaning all the regions that are not necessary so I can merge the two CSV files properly\n",
        "regions_to_remove = ['Africa Eastern and Southern', 'Central Europe and the Baltics', 'Early-demographic dividend', 'East Asia & Pacific (IDA & IBRD countries)', 'Europe & Central Asia',\n",
        "                     'Fragile and conflict affected situations', 'East Asia & Pacific (excluding high income)', 'East Asia & Pacific', 'Europe & Central Asia (excluding high income)',\n",
        "                     'Heavily indebted poor countries (HIPC)', 'High income', 'IBRD only', 'IDA & IBRD total', 'IDA blend', 'Europe & Central Asia (IDA & IBRD countries)',\n",
        "                     'IDA only', 'IDA total', 'Late-demographic dividend', 'Latin America & Caribbean (excluding high income)',\n",
        "                     'Latin America & the Caribbean (IDA & IBRD countries)', 'Least developed countries: UN classification', 'Low & middle income', 'Low income',\n",
        "                     'Lower middle income', 'Middle East & North Africa',  'Middle East & North Africa (IDA & IBRD countries)', 'Middle East & North Africa (excluding high income)', 'Middle income',\n",
        "                     'Latin America & Caribbean', 'Other small states', 'Pacific island small states', 'OECD members',  'Post-demographic dividend', 'Pre-demographic dividend',\n",
        "                     'South Asia (IDA & IBRD)', 'Sub-Saharan Africa', 'Sub-Saharan Africa (IDA & IBRD countries)', 'Sub-Saharan Africa (excluding high income)',\n",
        "                     'North America', 'World', 'Upper middle income', 'Arab World', 'Dominica',\n",
        "                     'Caribbean small states', 'Euro area', 'European Union', 'Marshall Islands', 'Small states', 'South Asia', 'South Sudan', 'St. Kitts and Nevis', 'Andorra', 'Korea, Rep.']\n",
        "\n",
        "df2_melted['Country Name'] = df2_melted['Country Name'].str.strip()\n",
        "\n",
        "# remove rows that match the region names\n",
        "df2_melted = df2_melted[~df2_melted['Country Name'].isin(regions_to_remove)]"
      ],
      "metadata": {
        "id": "W5RxZONpKMIe"
      },
      "execution_count": null,
      "outputs": []
    },
    {
      "cell_type": "code",
      "source": [
        "df2_melted.columns = df2_melted.columns.str.lower()\n",
        "# make columnnames lower case and replace spaces with underscores\n",
        "df2_melted.columns = df2_melted.columns.str.lower().str.replace(' ', '_')\n",
        "print(df2_melted.columns)"
      ],
      "metadata": {
        "id": "pYERWuED-KAZ"
      },
      "execution_count": null,
      "outputs": []
    },
    {
      "cell_type": "code",
      "source": [
        "df2_melted['year'] = df2_melted['year'].astype(int)"
      ],
      "metadata": {
        "id": "Y86R-VrdiKKv"
      },
      "execution_count": null,
      "outputs": []
    },
    {
      "cell_type": "code",
      "source": [
        "df2_melted.rename(columns={'country_name': 'country'}, inplace=True)"
      ],
      "metadata": {
        "id": "lWXhcZyhoIX_"
      },
      "execution_count": null,
      "outputs": []
    },
    {
      "cell_type": "code",
      "source": [
        "df2_melted.sort_values(by=['country', 'year'], inplace=True)"
      ],
      "metadata": {
        "id": "k5_jCbHKp0o0"
      },
      "execution_count": null,
      "outputs": []
    },
    {
      "cell_type": "code",
      "source": [
        "df2_melted.head()"
      ],
      "metadata": {
        "id": "fKnEGytyJYJU"
      },
      "execution_count": null,
      "outputs": []
    },
    {
      "cell_type": "markdown",
      "source": [
        "Reading and modifying the second csv file"
      ],
      "metadata": {
        "id": "_VAbZcwL9Xse"
      }
    },
    {
      "cell_type": "code",
      "source": [
        "df3 = pd.read_csv('Life-Expectancy-Data-Updated.csv')\n",
        "df3.columns = df3.columns.str.lower()\n",
        "# make columnnames lower case and replace spaces with underscores\n",
        "df3.columns = df3.columns.str.lower().str.replace(' ', '_')\n",
        "print(df3.columns)"
      ],
      "metadata": {
        "id": "Tyx1j0Jh3oHh"
      },
      "execution_count": null,
      "outputs": []
    },
    {
      "cell_type": "code",
      "source": [
        "print(df3['region'].to_string(index=False))"
      ],
      "metadata": {
        "id": "h7iy8-d5kuVo"
      },
      "execution_count": null,
      "outputs": []
    },
    {
      "cell_type": "code",
      "source": [
        "df3.sort_values(by=['country', 'year'], inplace=True)"
      ],
      "metadata": {
        "id": "Nj7vkxajnHvk"
      },
      "execution_count": null,
      "outputs": []
    },
    {
      "cell_type": "markdown",
      "source": [
        "Cleaning Life Expectancy Data"
      ],
      "metadata": {
        "id": "d22gOHxwwse-"
      }
    },
    {
      "cell_type": "code",
      "source": [
        "remove_columns = ['infant_deaths', 'under_five_deaths',\n",
        "                  'adult_mortality', 'alcohol_consumption', 'hepatitis_b', 'measles',\n",
        "                  'bmi', 'polio', 'diphtheria', 'incidents_hiv',\n",
        "                  'population_mln', 'thinness_ten_nineteen_years',\n",
        "                  'thinness_five_nine_years', 'schooling']\n",
        "\n",
        "df3 = df3.drop(columns=remove_columns)"
      ],
      "metadata": {
        "id": "NcVV4Lb8wypJ"
      },
      "execution_count": null,
      "outputs": []
    },
    {
      "cell_type": "code",
      "source": [
        "df3.rename(columns={'economy_status_developed': 'developed_country',\n",
        "                  'economy_status_developing': 'undeveloped_country',\n",
        "                  'gdp_per_capita': 'gdp'}, inplace=True)"
      ],
      "metadata": {
        "id": "qT4IdysMZe5y"
      },
      "execution_count": null,
      "outputs": []
    },
    {
      "cell_type": "code",
      "source": [
        "df3.head()"
      ],
      "metadata": {
        "id": "8IcwO2YCjyjC"
      },
      "execution_count": null,
      "outputs": []
    },
    {
      "cell_type": "markdown",
      "source": [
        "Mixing both CSV Files to a single one after cleaning them up\n"
      ],
      "metadata": {
        "id": "uRVJUka6jM8A"
      }
    },
    {
      "cell_type": "code",
      "source": [
        "# function to display unique values in df columns\n",
        "def display_unique_column_values(df):\n",
        "    for column in df.columns:\n",
        "        unique_values = df[column].unique()\n",
        "        print(f\"Unique values for column '{column}':\")\n",
        "        print(unique_values)\n",
        "        print()"
      ],
      "metadata": {
        "id": "mUYkfCHRjRlB"
      },
      "execution_count": null,
      "outputs": []
    },
    {
      "cell_type": "code",
      "source": [
        "display_unique_column_values(df2_melted)"
      ],
      "metadata": {
        "id": "1iNrvgsts6oA"
      },
      "execution_count": null,
      "outputs": []
    },
    {
      "cell_type": "code",
      "source": [
        "display_unique_column_values(df3)"
      ],
      "metadata": {
        "id": "oZXmov0SsVDt"
      },
      "execution_count": null,
      "outputs": []
    },
    {
      "cell_type": "code",
      "source": [
        "df3.head()"
      ],
      "metadata": {
        "id": "o3ZOSclMuQ4q"
      },
      "execution_count": null,
      "outputs": []
    },
    {
      "cell_type": "code",
      "source": [
        "df2_melted.head()"
      ],
      "metadata": {
        "id": "VmxTZwjhuTIT"
      },
      "execution_count": null,
      "outputs": []
    },
    {
      "cell_type": "code",
      "source": [
        "categorical = df3.select_dtypes(\"object\")\n",
        "categorical.info()"
      ],
      "metadata": {
        "id": "iyeVXfdeysvq"
      },
      "execution_count": null,
      "outputs": []
    },
    {
      "cell_type": "code",
      "source": [
        "categorical = df2_melted.select_dtypes(\"object\")\n",
        "categorical.info()"
      ],
      "metadata": {
        "id": "ZP5mm08Ca7F8"
      },
      "execution_count": null,
      "outputs": []
    },
    {
      "cell_type": "code",
      "source": [
        "numeric_data = df3.select_dtypes(\"number\")\n",
        "numeric_data.info()"
      ],
      "metadata": {
        "id": "E7cbP3Nu89ND"
      },
      "execution_count": null,
      "outputs": []
    },
    {
      "cell_type": "code",
      "source": [
        "final_df = pd.merge(df2_melted, df3, on=['country', 'year'], how='inner')"
      ],
      "metadata": {
        "id": "W20Mxh2VwXLA"
      },
      "execution_count": null,
      "outputs": []
    },
    {
      "cell_type": "code",
      "source": [
        "print(final_df.isnull().sum())"
      ],
      "metadata": {
        "id": "ITwmsZSObeFk"
      },
      "execution_count": null,
      "outputs": []
    },
    {
      "cell_type": "code",
      "source": [
        "final_df.to_csv('merged_data.csv', index=False)"
      ],
      "metadata": {
        "id": "qALGp-4AbRG1"
      },
      "execution_count": null,
      "outputs": []
    },
    {
      "cell_type": "markdown",
      "source": [
        "Actual start of the assignment\n",
        "\n",
        "1. Testing different insights with different graphs"
      ],
      "metadata": {
        "id": "nmyX9GeI53PC"
      }
    },
    {
      "cell_type": "code",
      "source": [
        "final_df = pd.read_csv(\"merged_data.csv\")"
      ],
      "metadata": {
        "id": "Xh3-3mPn3wBV"
      },
      "execution_count": null,
      "outputs": []
    },
    {
      "cell_type": "code",
      "source": [
        "final_df.head()"
      ],
      "metadata": {
        "id": "VnjfNh8bBw_9"
      },
      "execution_count": null,
      "outputs": []
    },
    {
      "cell_type": "code",
      "source": [
        "display_unique_column_values(final_df)"
      ],
      "metadata": {
        "id": "NYA4tlf33JJZ"
      },
      "execution_count": null,
      "outputs": []
    },
    {
      "cell_type": "code",
      "source": [
        "sns.boxplot(x=\"region\", y=\"life_expectancy\", data=final_df, showfliers=False)\n",
        "plt.xticks(rotation=60)\n",
        "plt.title(\"Life Expectancy Distribution by Health Expenditure\")\n",
        "plt.savefig(\"life_expectancy_boxplot.png\", dpi=300, bbox_inches=\"tight\")\n",
        "plt.show()"
      ],
      "metadata": {
        "id": "tHPjuAsXN98R"
      },
      "execution_count": null,
      "outputs": []
    },
    {
      "cell_type": "markdown",
      "source": [
        "There might be a way to automate this whole process, but I decided instead to use 3 different countries to show social and non-social healthcare"
      ],
      "metadata": {
        "id": "-tHhF7Mam2Of"
      }
    },
    {
      "cell_type": "markdown",
      "source": [
        "Social healthcare"
      ],
      "metadata": {
        "id": "RP73FQZknhY7"
      }
    },
    {
      "cell_type": "code",
      "source": [
        "country_name = \"Sweden\"\n",
        "country_df = final_df[final_df[\"country\"] == country_name]\n",
        "\n",
        "# health expenditure is % of GDP\n",
        "sns.regplot(x=\"health_expenditure\", y=\"year\", data=country_df)\n",
        "plt.title(f\"Country: {country_name}\")\n",
        "plt.savefig(\"regplotswed.png\", dpi=300, bbox_inches=\"tight\")\n",
        "plt.show()"
      ],
      "metadata": {
        "id": "CIVDIvzWNUPJ"
      },
      "execution_count": null,
      "outputs": []
    },
    {
      "cell_type": "code",
      "source": [
        "country_name = \"Canada\"\n",
        "country_df = final_df[final_df[\"country\"] == country_name]\n",
        "\n",
        "# health expenditure is % of GDP\n",
        "sns.regplot(x=\"health_expenditure\", y=\"year\", data=country_df)\n",
        "plt.title(f\"Country: {country_name}\")\n",
        "plt.savefig(\"regplotca.png\", dpi=300, bbox_inches=\"tight\")\n",
        "plt.show()"
      ],
      "metadata": {
        "id": "TpjatUJZnINj"
      },
      "execution_count": null,
      "outputs": []
    },
    {
      "cell_type": "code",
      "source": [
        "country_name = \"Israel\"\n",
        "country_df = final_df[final_df[\"country\"] == country_name]\n",
        "\n",
        "# health expenditure is % of GDP\n",
        "sns.regplot(x=\"health_expenditure\", y=\"year\", data=country_df)\n",
        "plt.title(f\"Country: {country_name}\")\n",
        "plt.savefig(\"regplotis.png\", dpi=300, bbox_inches=\"tight\")\n",
        "plt.show()"
      ],
      "metadata": {
        "id": "R6lGJo8RnOhb"
      },
      "execution_count": null,
      "outputs": []
    },
    {
      "cell_type": "markdown",
      "source": [
        "Non-social healthcare"
      ],
      "metadata": {
        "id": "oHPksho-nkg1"
      }
    },
    {
      "cell_type": "code",
      "source": [
        "country_name = \"United States\"\n",
        "country_df = final_df[final_df[\"country\"] == country_name]\n",
        "\n",
        "# health expenditure is % of GDP\n",
        "sns.regplot(x=\"health_expenditure\", y=\"year\", data=country_df)\n",
        "plt.title(f\"Country: {country_name}\")\n",
        "plt.savefig(\"regplotusa.png\", dpi=300, bbox_inches=\"tight\")\n",
        "plt.show()"
      ],
      "metadata": {
        "id": "F8K00sxUCdJX"
      },
      "execution_count": null,
      "outputs": []
    },
    {
      "cell_type": "code",
      "source": [
        "country_name = \"New Zealand\"\n",
        "country_df = final_df[final_df[\"country\"] == country_name]\n",
        "\n",
        "# health expenditure is % of GDP\n",
        "sns.regplot(x=\"health_expenditure\", y=\"year\", data=country_df)\n",
        "plt.title(f\"Country: {country_name}\")\n",
        "plt.savefig(\"regplotnz.png\", dpi=300, bbox_inches=\"tight\")\n",
        "plt.show()"
      ],
      "metadata": {
        "id": "G4cSrK_SoRZg"
      },
      "execution_count": null,
      "outputs": []
    },
    {
      "cell_type": "code",
      "source": [
        "country_name = \"El Salvador\"\n",
        "country_df = final_df[final_df[\"country\"] == country_name]\n",
        "\n",
        "# health expenditure is % of GDP\n",
        "sns.regplot(x=\"health_expenditure\", y=\"year\", data=country_df)\n",
        "plt.title(f\"Country: {country_name}\")\n",
        "plt.savefig(\"regplotesa.png\", dpi=300, bbox_inches=\"tight\")\n",
        "plt.show()"
      ],
      "metadata": {
        "id": "WqQQK5uppIcj"
      },
      "execution_count": null,
      "outputs": []
    },
    {
      "cell_type": "code",
      "source": [
        "# interesting finding instead of spending more on healthcare, the country's healthcare system is simply declining\n",
        "country_name = \"Afghanistan\"\n",
        "country_df = final_df[final_df[\"country\"] == country_name]\n",
        "\n",
        "# health expenditure is % of GDP\n",
        "sns.regplot(x=\"health_expenditure\", y=\"year\", data=country_df)\n",
        "plt.title(f\"Country: {country_name}\")\n",
        "plt.savefig(\"regplot.png\", dpi=300, bbox_inches=\"tight\")\n",
        "plt.show()"
      ],
      "metadata": {
        "id": "f-0xmGQfoezI"
      },
      "execution_count": null,
      "outputs": []
    },
    {
      "cell_type": "code",
      "source": [
        "plt.figure(figsize=(10, 6))\n",
        "\n",
        "# plot histogram for life expectancy with development status (stacked)\n",
        "sns.histplot(data=final_df, x='life_expectancy', hue='developed_country', multiple=\"stack\", palette='Set1', bins=20)\n",
        "\n",
        "plt.title('Stacked Histogram of Life Expectancy by Developed Status')\n",
        "plt.xlabel('Life Expectancy')\n",
        "plt.ylabel('Frequency')\n",
        "plt.savefig(\"stacked_histogram_gdp_development_status.png\", dpi=300, bbox_inches=\"tight\")\n",
        "plt.show()\n"
      ],
      "metadata": {
        "id": "Py75fexTTcer"
      },
      "execution_count": null,
      "outputs": []
    },
    {
      "cell_type": "code",
      "source": [
        "numeric_data = final_df.select_dtypes(\"number\")\n",
        "numeric_data.info()"
      ],
      "metadata": {
        "id": "006sUWKBdErA"
      },
      "execution_count": null,
      "outputs": []
    },
    {
      "cell_type": "code",
      "source": [
        "numeric_columns = final_df.select_dtypes(include=['number'])"
      ],
      "metadata": {
        "id": "Uu13gulbc64K"
      },
      "execution_count": null,
      "outputs": []
    },
    {
      "cell_type": "markdown",
      "source": [
        "Trying to see if I missed any highly correlated features; everything suggests that life expectancy correlates the best"
      ],
      "metadata": {
        "id": "jeF8s-JXqAwf"
      }
    },
    {
      "cell_type": "code",
      "source": [
        "correlation_matrix = numeric_columns.corr()"
      ],
      "metadata": {
        "id": "L4x21bTjdTpF"
      },
      "execution_count": null,
      "outputs": []
    },
    {
      "cell_type": "code",
      "source": [
        "plt.figure(figsize=(10, 8))\n",
        "sns.heatmap(correlation_matrix, annot=True, cmap='coolwarm', fmt='.2f', cbar=True)\n",
        "plt.title('Correlation Heatmap')\n",
        "plt.savefig(\"correlation.png\", dpi=50, bbox_inches=\"tight\")\n",
        "plt.show()"
      ],
      "metadata": {
        "id": "7rMrfVw5c7wI"
      },
      "execution_count": null,
      "outputs": []
    },
    {
      "cell_type": "markdown",
      "source": [
        "2. Trying a regressor model"
      ],
      "metadata": {
        "id": "j_wA-mIGduUh"
      }
    },
    {
      "cell_type": "markdown",
      "source": [
        "Random Forest"
      ],
      "metadata": {
        "id": "X3kCWxp-fY_u"
      }
    },
    {
      "cell_type": "code",
      "source": [
        "final_df = pd.read_csv(\"merged_data.csv\")"
      ],
      "metadata": {
        "id": "KBUCUFYK-zPb"
      },
      "execution_count": null,
      "outputs": []
    },
    {
      "cell_type": "code",
      "source": [
        "final_df.head()"
      ],
      "metadata": {
        "id": "VK7gwE3t-6yu",
        "colab": {
          "base_uri": "https://localhost:8080/",
          "height": 226
        },
        "outputId": "b94f260c-33d1-4cf4-86d2-bd1eb2f03361"
      },
      "execution_count": 52,
      "outputs": [
        {
          "output_type": "execute_result",
          "data": {
            "text/plain": [
              "       country  year  health_expenditure region  gdp  developed_country  \\\n",
              "0  Afghanistan  2002            9.443391   Asia  320                  0   \n",
              "1  Afghanistan  2003            8.941258   Asia  332                  0   \n",
              "2  Afghanistan  2004            9.808474   Asia  323                  0   \n",
              "3  Afghanistan  2005            9.948289   Asia  346                  0   \n",
              "4  Afghanistan  2006           10.622766   Asia  354                  0   \n",
              "\n",
              "   undeveloped_country  life_expectancy  \n",
              "0                    1             56.8  \n",
              "1                    1             57.3  \n",
              "2                    1             57.8  \n",
              "3                    1             58.3  \n",
              "4                    1             58.8  "
            ],
            "text/html": [
              "\n",
              "  <div id=\"df-f4419d5b-0ad9-470a-9047-cb5575f0d29e\" class=\"colab-df-container\">\n",
              "    <div>\n",
              "<style scoped>\n",
              "    .dataframe tbody tr th:only-of-type {\n",
              "        vertical-align: middle;\n",
              "    }\n",
              "\n",
              "    .dataframe tbody tr th {\n",
              "        vertical-align: top;\n",
              "    }\n",
              "\n",
              "    .dataframe thead th {\n",
              "        text-align: right;\n",
              "    }\n",
              "</style>\n",
              "<table border=\"1\" class=\"dataframe\">\n",
              "  <thead>\n",
              "    <tr style=\"text-align: right;\">\n",
              "      <th></th>\n",
              "      <th>country</th>\n",
              "      <th>year</th>\n",
              "      <th>health_expenditure</th>\n",
              "      <th>region</th>\n",
              "      <th>gdp</th>\n",
              "      <th>developed_country</th>\n",
              "      <th>undeveloped_country</th>\n",
              "      <th>life_expectancy</th>\n",
              "    </tr>\n",
              "  </thead>\n",
              "  <tbody>\n",
              "    <tr>\n",
              "      <th>0</th>\n",
              "      <td>Afghanistan</td>\n",
              "      <td>2002</td>\n",
              "      <td>9.443391</td>\n",
              "      <td>Asia</td>\n",
              "      <td>320</td>\n",
              "      <td>0</td>\n",
              "      <td>1</td>\n",
              "      <td>56.8</td>\n",
              "    </tr>\n",
              "    <tr>\n",
              "      <th>1</th>\n",
              "      <td>Afghanistan</td>\n",
              "      <td>2003</td>\n",
              "      <td>8.941258</td>\n",
              "      <td>Asia</td>\n",
              "      <td>332</td>\n",
              "      <td>0</td>\n",
              "      <td>1</td>\n",
              "      <td>57.3</td>\n",
              "    </tr>\n",
              "    <tr>\n",
              "      <th>2</th>\n",
              "      <td>Afghanistan</td>\n",
              "      <td>2004</td>\n",
              "      <td>9.808474</td>\n",
              "      <td>Asia</td>\n",
              "      <td>323</td>\n",
              "      <td>0</td>\n",
              "      <td>1</td>\n",
              "      <td>57.8</td>\n",
              "    </tr>\n",
              "    <tr>\n",
              "      <th>3</th>\n",
              "      <td>Afghanistan</td>\n",
              "      <td>2005</td>\n",
              "      <td>9.948289</td>\n",
              "      <td>Asia</td>\n",
              "      <td>346</td>\n",
              "      <td>0</td>\n",
              "      <td>1</td>\n",
              "      <td>58.3</td>\n",
              "    </tr>\n",
              "    <tr>\n",
              "      <th>4</th>\n",
              "      <td>Afghanistan</td>\n",
              "      <td>2006</td>\n",
              "      <td>10.622766</td>\n",
              "      <td>Asia</td>\n",
              "      <td>354</td>\n",
              "      <td>0</td>\n",
              "      <td>1</td>\n",
              "      <td>58.8</td>\n",
              "    </tr>\n",
              "  </tbody>\n",
              "</table>\n",
              "</div>\n",
              "    <div class=\"colab-df-buttons\">\n",
              "\n",
              "  <div class=\"colab-df-container\">\n",
              "    <button class=\"colab-df-convert\" onclick=\"convertToInteractive('df-f4419d5b-0ad9-470a-9047-cb5575f0d29e')\"\n",
              "            title=\"Convert this dataframe to an interactive table.\"\n",
              "            style=\"display:none;\">\n",
              "\n",
              "  <svg xmlns=\"http://www.w3.org/2000/svg\" height=\"24px\" viewBox=\"0 -960 960 960\">\n",
              "    <path d=\"M120-120v-720h720v720H120Zm60-500h600v-160H180v160Zm220 220h160v-160H400v160Zm0 220h160v-160H400v160ZM180-400h160v-160H180v160Zm440 0h160v-160H620v160ZM180-180h160v-160H180v160Zm440 0h160v-160H620v160Z\"/>\n",
              "  </svg>\n",
              "    </button>\n",
              "\n",
              "  <style>\n",
              "    .colab-df-container {\n",
              "      display:flex;\n",
              "      gap: 12px;\n",
              "    }\n",
              "\n",
              "    .colab-df-convert {\n",
              "      background-color: #E8F0FE;\n",
              "      border: none;\n",
              "      border-radius: 50%;\n",
              "      cursor: pointer;\n",
              "      display: none;\n",
              "      fill: #1967D2;\n",
              "      height: 32px;\n",
              "      padding: 0 0 0 0;\n",
              "      width: 32px;\n",
              "    }\n",
              "\n",
              "    .colab-df-convert:hover {\n",
              "      background-color: #E2EBFA;\n",
              "      box-shadow: 0px 1px 2px rgba(60, 64, 67, 0.3), 0px 1px 3px 1px rgba(60, 64, 67, 0.15);\n",
              "      fill: #174EA6;\n",
              "    }\n",
              "\n",
              "    .colab-df-buttons div {\n",
              "      margin-bottom: 4px;\n",
              "    }\n",
              "\n",
              "    [theme=dark] .colab-df-convert {\n",
              "      background-color: #3B4455;\n",
              "      fill: #D2E3FC;\n",
              "    }\n",
              "\n",
              "    [theme=dark] .colab-df-convert:hover {\n",
              "      background-color: #434B5C;\n",
              "      box-shadow: 0px 1px 3px 1px rgba(0, 0, 0, 0.15);\n",
              "      filter: drop-shadow(0px 1px 2px rgba(0, 0, 0, 0.3));\n",
              "      fill: #FFFFFF;\n",
              "    }\n",
              "  </style>\n",
              "\n",
              "    <script>\n",
              "      const buttonEl =\n",
              "        document.querySelector('#df-f4419d5b-0ad9-470a-9047-cb5575f0d29e button.colab-df-convert');\n",
              "      buttonEl.style.display =\n",
              "        google.colab.kernel.accessAllowed ? 'block' : 'none';\n",
              "\n",
              "      async function convertToInteractive(key) {\n",
              "        const element = document.querySelector('#df-f4419d5b-0ad9-470a-9047-cb5575f0d29e');\n",
              "        const dataTable =\n",
              "          await google.colab.kernel.invokeFunction('convertToInteractive',\n",
              "                                                    [key], {});\n",
              "        if (!dataTable) return;\n",
              "\n",
              "        const docLinkHtml = 'Like what you see? Visit the ' +\n",
              "          '<a target=\"_blank\" href=https://colab.research.google.com/notebooks/data_table.ipynb>data table notebook</a>'\n",
              "          + ' to learn more about interactive tables.';\n",
              "        element.innerHTML = '';\n",
              "        dataTable['output_type'] = 'display_data';\n",
              "        await google.colab.output.renderOutput(dataTable, element);\n",
              "        const docLink = document.createElement('div');\n",
              "        docLink.innerHTML = docLinkHtml;\n",
              "        element.appendChild(docLink);\n",
              "      }\n",
              "    </script>\n",
              "  </div>\n",
              "\n",
              "\n",
              "<div id=\"df-b3532794-9c35-4e6f-b646-91a79667c5cd\">\n",
              "  <button class=\"colab-df-quickchart\" onclick=\"quickchart('df-b3532794-9c35-4e6f-b646-91a79667c5cd')\"\n",
              "            title=\"Suggest charts\"\n",
              "            style=\"display:none;\">\n",
              "\n",
              "<svg xmlns=\"http://www.w3.org/2000/svg\" height=\"24px\"viewBox=\"0 0 24 24\"\n",
              "     width=\"24px\">\n",
              "    <g>\n",
              "        <path d=\"M19 3H5c-1.1 0-2 .9-2 2v14c0 1.1.9 2 2 2h14c1.1 0 2-.9 2-2V5c0-1.1-.9-2-2-2zM9 17H7v-7h2v7zm4 0h-2V7h2v10zm4 0h-2v-4h2v4z\"/>\n",
              "    </g>\n",
              "</svg>\n",
              "  </button>\n",
              "\n",
              "<style>\n",
              "  .colab-df-quickchart {\n",
              "      --bg-color: #E8F0FE;\n",
              "      --fill-color: #1967D2;\n",
              "      --hover-bg-color: #E2EBFA;\n",
              "      --hover-fill-color: #174EA6;\n",
              "      --disabled-fill-color: #AAA;\n",
              "      --disabled-bg-color: #DDD;\n",
              "  }\n",
              "\n",
              "  [theme=dark] .colab-df-quickchart {\n",
              "      --bg-color: #3B4455;\n",
              "      --fill-color: #D2E3FC;\n",
              "      --hover-bg-color: #434B5C;\n",
              "      --hover-fill-color: #FFFFFF;\n",
              "      --disabled-bg-color: #3B4455;\n",
              "      --disabled-fill-color: #666;\n",
              "  }\n",
              "\n",
              "  .colab-df-quickchart {\n",
              "    background-color: var(--bg-color);\n",
              "    border: none;\n",
              "    border-radius: 50%;\n",
              "    cursor: pointer;\n",
              "    display: none;\n",
              "    fill: var(--fill-color);\n",
              "    height: 32px;\n",
              "    padding: 0;\n",
              "    width: 32px;\n",
              "  }\n",
              "\n",
              "  .colab-df-quickchart:hover {\n",
              "    background-color: var(--hover-bg-color);\n",
              "    box-shadow: 0 1px 2px rgba(60, 64, 67, 0.3), 0 1px 3px 1px rgba(60, 64, 67, 0.15);\n",
              "    fill: var(--button-hover-fill-color);\n",
              "  }\n",
              "\n",
              "  .colab-df-quickchart-complete:disabled,\n",
              "  .colab-df-quickchart-complete:disabled:hover {\n",
              "    background-color: var(--disabled-bg-color);\n",
              "    fill: var(--disabled-fill-color);\n",
              "    box-shadow: none;\n",
              "  }\n",
              "\n",
              "  .colab-df-spinner {\n",
              "    border: 2px solid var(--fill-color);\n",
              "    border-color: transparent;\n",
              "    border-bottom-color: var(--fill-color);\n",
              "    animation:\n",
              "      spin 1s steps(1) infinite;\n",
              "  }\n",
              "\n",
              "  @keyframes spin {\n",
              "    0% {\n",
              "      border-color: transparent;\n",
              "      border-bottom-color: var(--fill-color);\n",
              "      border-left-color: var(--fill-color);\n",
              "    }\n",
              "    20% {\n",
              "      border-color: transparent;\n",
              "      border-left-color: var(--fill-color);\n",
              "      border-top-color: var(--fill-color);\n",
              "    }\n",
              "    30% {\n",
              "      border-color: transparent;\n",
              "      border-left-color: var(--fill-color);\n",
              "      border-top-color: var(--fill-color);\n",
              "      border-right-color: var(--fill-color);\n",
              "    }\n",
              "    40% {\n",
              "      border-color: transparent;\n",
              "      border-right-color: var(--fill-color);\n",
              "      border-top-color: var(--fill-color);\n",
              "    }\n",
              "    60% {\n",
              "      border-color: transparent;\n",
              "      border-right-color: var(--fill-color);\n",
              "    }\n",
              "    80% {\n",
              "      border-color: transparent;\n",
              "      border-right-color: var(--fill-color);\n",
              "      border-bottom-color: var(--fill-color);\n",
              "    }\n",
              "    90% {\n",
              "      border-color: transparent;\n",
              "      border-bottom-color: var(--fill-color);\n",
              "    }\n",
              "  }\n",
              "</style>\n",
              "\n",
              "  <script>\n",
              "    async function quickchart(key) {\n",
              "      const quickchartButtonEl =\n",
              "        document.querySelector('#' + key + ' button');\n",
              "      quickchartButtonEl.disabled = true;  // To prevent multiple clicks.\n",
              "      quickchartButtonEl.classList.add('colab-df-spinner');\n",
              "      try {\n",
              "        const charts = await google.colab.kernel.invokeFunction(\n",
              "            'suggestCharts', [key], {});\n",
              "      } catch (error) {\n",
              "        console.error('Error during call to suggestCharts:', error);\n",
              "      }\n",
              "      quickchartButtonEl.classList.remove('colab-df-spinner');\n",
              "      quickchartButtonEl.classList.add('colab-df-quickchart-complete');\n",
              "    }\n",
              "    (() => {\n",
              "      let quickchartButtonEl =\n",
              "        document.querySelector('#df-b3532794-9c35-4e6f-b646-91a79667c5cd button');\n",
              "      quickchartButtonEl.style.display =\n",
              "        google.colab.kernel.accessAllowed ? 'block' : 'none';\n",
              "    })();\n",
              "  </script>\n",
              "</div>\n",
              "\n",
              "    </div>\n",
              "  </div>\n"
            ],
            "application/vnd.google.colaboratory.intrinsic+json": {
              "type": "dataframe",
              "variable_name": "final_df",
              "summary": "{\n  \"name\": \"final_df\",\n  \"rows\": 2812,\n  \"fields\": [\n    {\n      \"column\": \"country\",\n      \"properties\": {\n        \"dtype\": \"category\",\n        \"num_unique_values\": 177,\n        \"samples\": [\n          \"Bolivia\",\n          \"Denmark\",\n          \"Serbia\"\n        ],\n        \"semantic_type\": \"\",\n        \"description\": \"\"\n      }\n    },\n    {\n      \"column\": \"year\",\n      \"properties\": {\n        \"dtype\": \"number\",\n        \"std\": 4,\n        \"min\": 2000,\n        \"max\": 2015,\n        \"num_unique_values\": 16,\n        \"samples\": [\n          2002,\n          2003,\n          2007\n        ],\n        \"semantic_type\": \"\",\n        \"description\": \"\"\n      }\n    },\n    {\n      \"column\": \"health_expenditure\",\n      \"properties\": {\n        \"dtype\": \"number\",\n        \"std\": 2.501442249650557,\n        \"min\": 1.10720015,\n        \"max\": 19.69004631,\n        \"num_unique_values\": 2581,\n        \"samples\": [\n          8.75833225,\n          3.31908512,\n          4.72216797\n        ],\n        \"semantic_type\": \"\",\n        \"description\": \"\"\n      }\n    },\n    {\n      \"column\": \"region\",\n      \"properties\": {\n        \"dtype\": \"category\",\n        \"num_unique_values\": 9,\n        \"samples\": [\n          \"Middle East\",\n          \"Rest of Europe\",\n          \"Oceania\"\n        ],\n        \"semantic_type\": \"\",\n        \"description\": \"\"\n      }\n    },\n    {\n      \"column\": \"gdp\",\n      \"properties\": {\n        \"dtype\": \"number\",\n        \"std\": 17057,\n        \"min\": 259,\n        \"max\": 112418,\n        \"num_unique_values\": 2505,\n        \"samples\": [\n          4350,\n          4353,\n          7207\n        ],\n        \"semantic_type\": \"\",\n        \"description\": \"\"\n      }\n    },\n    {\n      \"column\": \"developed_country\",\n      \"properties\": {\n        \"dtype\": \"number\",\n        \"std\": 0,\n        \"min\": 0,\n        \"max\": 1,\n        \"num_unique_values\": 2,\n        \"samples\": [\n          1,\n          0\n        ],\n        \"semantic_type\": \"\",\n        \"description\": \"\"\n      }\n    },\n    {\n      \"column\": \"undeveloped_country\",\n      \"properties\": {\n        \"dtype\": \"number\",\n        \"std\": 0,\n        \"min\": 0,\n        \"max\": 1,\n        \"num_unique_values\": 2,\n        \"samples\": [\n          0,\n          1\n        ],\n        \"semantic_type\": \"\",\n        \"description\": \"\"\n      }\n    },\n    {\n      \"column\": \"life_expectancy\",\n      \"properties\": {\n        \"dtype\": \"number\",\n        \"std\": 9.43660316352334,\n        \"min\": 39.4,\n        \"max\": 83.8,\n        \"num_unique_values\": 393,\n        \"samples\": [\n          79.9,\n          73.2\n        ],\n        \"semantic_type\": \"\",\n        \"description\": \"\"\n      }\n    }\n  ]\n}"
            }
          },
          "metadata": {},
          "execution_count": 52
        }
      ]
    },
    {
      "cell_type": "code",
      "source": [
        "from sklearn.model_selection import train_test_split\n",
        "\n",
        "feature_col_names = ['year', 'health_expenditure', 'gdp', 'developed_country', 'undeveloped_country']\n",
        "predicted_class_names = ['life_expectancy']\n",
        "\n",
        "# set the split\n",
        "split_test_size = 0.20\n",
        "\n",
        "# predictor feature columns (F X m)\n",
        "X = final_df[feature_col_names].values\n",
        "# predicted class (1=true, 0=false) column (1 X m)\n",
        "y = final_df[predicted_class_names].values\n",
        "\n",
        "X_train, X_test, y_train, y_test = train_test_split(X, y, test_size=split_test_size, random_state=42)"
      ],
      "metadata": {
        "id": "ZbR0Zk72d4Or"
      },
      "execution_count": null,
      "outputs": []
    },
    {
      "cell_type": "code",
      "source": [
        "print(\"{0:0.2f}% in training set\".format((len(X_train)/len(final_df.index)) * 100))\n",
        "print(\"{0:0.2f}% in test set\".format((len(X_test)/len(final_df.index)) * 100))"
      ],
      "metadata": {
        "id": "w-j-frCIfDi2"
      },
      "execution_count": null,
      "outputs": []
    },
    {
      "cell_type": "code",
      "source": [
        "from sklearn.ensemble import RandomForestRegressor\n",
        "\n",
        "rf_model = RandomForestRegressor(random_state=42, n_estimators=100)\n",
        "rf_model.fit(X_train, y_train.ravel())"
      ],
      "metadata": {
        "id": "G7RVlGnDfLLl"
      },
      "execution_count": null,
      "outputs": []
    },
    {
      "cell_type": "code",
      "source": [
        "rf_predict_train = rf_model.predict(X_train)"
      ],
      "metadata": {
        "id": "nsZsvrklfWQl"
      },
      "execution_count": null,
      "outputs": []
    },
    {
      "cell_type": "code",
      "source": [
        "from sklearn import metrics\n",
        "\n",
        "r2_train = metrics.r2_score(y_train, rf_predict_train)\n",
        "print(\"R-squared on TRAINING SET: {0:.4f}\".format(r2_train))"
      ],
      "metadata": {
        "id": "9ga4XBnOhFuN",
        "colab": {
          "base_uri": "https://localhost:8080/"
        },
        "outputId": "6a6963de-0e77-40c6-c93c-8e47f7695466"
      },
      "execution_count": 51,
      "outputs": [
        {
          "output_type": "stream",
          "name": "stdout",
          "text": [
            "R-squared on TRAINING SET: 0.9672\n"
          ]
        }
      ]
    },
    {
      "cell_type": "code",
      "source": [
        "mse_train = metrics.mean_squared_error(y_train, rf_predict_train)\n",
        "print(\"Mean Squared Error on TRAINING SET: {0:.4f}\".format(mse_train))"
      ],
      "metadata": {
        "id": "rWfEa3YdhY8P"
      },
      "execution_count": null,
      "outputs": []
    },
    {
      "cell_type": "code",
      "source": [
        "mae_train = metrics.mean_absolute_error(y_train, rf_predict_train)\n",
        "print(\"Mean Absolute Error on TRAINING SET: {0:.4f}\".format(mae_train))"
      ],
      "metadata": {
        "id": "5IBkqOUvhc4e"
      },
      "execution_count": null,
      "outputs": []
    },
    {
      "cell_type": "code",
      "source": [
        "rf_predict_train = rf_model.predict(X_train)\n",
        "\n",
        "plt.figure(figsize=(8, 6))\n",
        "plt.scatter(y_train, rf_predict_train, alpha=0.6, color='blue')\n",
        "plt.plot([y_train.min(), y_train.max()], [y_train.min(), y_train.max()], color='red', linestyle='--')\n",
        "plt.title('Actual vs Predicted Life Expectancy')\n",
        "plt.xlabel('Actual Life Expectancy')\n",
        "plt.ylabel('Predicted Life Expectancy')\n",
        "plt.savefig(\"test.png\", dpi=10, bbox_inches=\"tight\")\n",
        "plt.show()\n"
      ],
      "metadata": {
        "id": "lZJyIH83iBnr",
        "colab": {
          "base_uri": "https://localhost:8080/",
          "height": 564
        },
        "outputId": "3be252a2-a3e1-4d0a-ab9e-f6016f3c6258"
      },
      "execution_count": 50,
      "outputs": [
        {
          "output_type": "display_data",
          "data": {
            "text/plain": [
              "<Figure size 800x600 with 1 Axes>"
            ],
            "image/png": "[encoded data removed]"
          },
          "metadata": {}
        }
      ]
    }
  ]
}